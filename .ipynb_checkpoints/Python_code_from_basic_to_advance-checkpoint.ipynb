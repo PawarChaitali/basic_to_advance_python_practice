{
 "cells": [
  {
   "cell_type": "markdown",
   "id": "d809b4c6-da8a-48a6-8555-450488864866",
   "metadata": {},
   "source": [
    "### Python Data Types"
   ]
  },
  {
   "cell_type": "code",
   "execution_count": 2,
   "id": "36594238-c086-4004-a1e4-6028da6dc236",
   "metadata": {},
   "outputs": [
    {
     "name": "stdout",
     "output_type": "stream",
     "text": [
      "<class 'int'>\n",
      "<class 'str'>\n",
      "<class 'bool'>\n",
      "<class 'float'>\n"
     ]
    }
   ],
   "source": [
    "a=5\n",
    "print(type(a))\n",
    "\n",
    "b=\"Apple\"\n",
    "print(type(b))\n",
    "\n",
    "c=True\n",
    "print(type(c))\n",
    "\n",
    "d=1.3\n",
    "print(type(d))"
   ]
  },
  {
   "cell_type": "markdown",
   "id": "8712ec06-34c5-4227-93a3-144438033831",
   "metadata": {},
   "source": [
    "### Python Casting"
   ]
  },
  {
   "cell_type": "code",
   "execution_count": 8,
   "id": "b7a46a3c-4ecd-4a90-a262-689d4c79c3f2",
   "metadata": {},
   "outputs": [],
   "source": [
    "# integers\n",
    "x = int(1)   # x will be 1\n",
    "y = int(2.8) # y will be 2\n",
    "z = int(\"3\") # z will be 3\n",
    "\n",
    "x = float(1)     # x will be 1.0\n",
    "y = float(2.8)   # y will be 2.8\n",
    "z = float(\"3\")   # z will be 3.0\n",
    "w = float(\"4.2\") # w will be 4.2\n",
    "\n",
    "x = str(\"a1\") # x will be 'a1'\n",
    "y = str(2)    # y will be '2'\n",
    "z = str(3.0)  # z will be '3.0'"
   ]
  },
  {
   "cell_type": "markdown",
   "id": "8716cbbb-2156-4db9-b73d-e7e4838f5335",
   "metadata": {},
   "source": [
    "### Strings"
   ]
  },
  {
   "cell_type": "code",
   "execution_count": 13,
   "id": "a7d52afd-3c35-4b58-a10d-f62c3a3f3f68",
   "metadata": {},
   "outputs": [
    {
     "name": "stdout",
     "output_type": "stream",
     "text": [
      "Hello World\n"
     ]
    }
   ],
   "source": [
    "a=\"Hello World\"\n",
    "print(a)"
   ]
  },
  {
   "cell_type": "markdown",
   "id": "adf61fdb-c388-4b8f-aa7d-2132cda6c228",
   "metadata": {},
   "source": [
    "##### Looping Through a String"
   ]
  },
  {
   "cell_type": "code",
   "execution_count": 21,
   "id": "541baecf-b5de-48bc-b6bf-05a362ac0b66",
   "metadata": {},
   "outputs": [
    {
     "name": "stdout",
     "output_type": "stream",
     "text": [
      "S\n",
      "a\n",
      "t\n",
      "u\n",
      "d\n",
      "a\n",
      "y\n"
     ]
    }
   ],
   "source": [
    "str1=\"Satuday\"\n",
    "for i in str1:\n",
    "    print(i)"
   ]
  },
  {
   "cell_type": "markdown",
   "id": "bab7918f-e659-4fd3-b0c1-acd769fe6381",
   "metadata": {},
   "source": [
    "##### Check String Length"
   ]
  },
  {
   "cell_type": "code",
   "execution_count": 22,
   "id": "0f2b58a8-6812-4216-82dd-8c9eb86413f6",
   "metadata": {},
   "outputs": [
    {
     "name": "stdout",
     "output_type": "stream",
     "text": [
      "6\n"
     ]
    }
   ],
   "source": [
    "str1=\"Sunday\"\n",
    "print(len(str1))         # Use len() function"
   ]
  },
  {
   "cell_type": "markdown",
   "id": "92424fdb-e8cc-4007-9792-f2876674abb0",
   "metadata": {},
   "source": [
    "##### Check if a certain phrase or character is present in a string"
   ]
  },
  {
   "cell_type": "code",
   "execution_count": 23,
   "id": "d6b1dd21-f80e-4ecc-9e5b-b452003bb970",
   "metadata": {},
   "outputs": [
    {
     "name": "stdout",
     "output_type": "stream",
     "text": [
      "True\n",
      "u is present\n"
     ]
    }
   ],
   "source": [
    "str1=\"Sunday\"\n",
    "print(\"u\" in str1)     # Use 'in' keyword\n",
    "\n",
    "# Use if statement\n",
    "if \"u\" in str1:        # Use 'in' keyword\n",
    "    print(\"u is present\")"
   ]
  },
  {
   "cell_type": "markdown",
   "id": "b3372f6c-bb30-41fe-9076-8fed8802ab8a",
   "metadata": {},
   "source": [
    "##### check if a certain phrase or character is NOT present in a string"
   ]
  },
  {
   "cell_type": "code",
   "execution_count": 27,
   "id": "fcace762-9916-4b10-8d86-e1fc3d385f80",
   "metadata": {},
   "outputs": [
    {
     "name": "stdout",
     "output_type": "stream",
     "text": [
      "False\n",
      "char is present\n"
     ]
    }
   ],
   "source": [
    "\n",
    "str1=\"Sunday\"\n",
    "print(\"u\" not in str1)     # Use 'not in' keyword\n",
    "\n",
    "# Use if statement\n",
    "if \"u\" not in str1:\n",
    "    print(\"u\" not in present)\n",
    "else:\n",
    "    print(\"char is present\")  # Use 'not in' keyword"
   ]
  },
  {
   "cell_type": "code",
   "execution_count": null,
   "id": "c7420ad0-6219-4d55-8704-9d545bd6466e",
   "metadata": {},
   "outputs": [],
   "source": []
  },
  {
   "cell_type": "code",
   "execution_count": null,
   "id": "cad81486-8d48-4e2c-b6e4-0317c8bba28f",
   "metadata": {},
   "outputs": [],
   "source": []
  }
 ],
 "metadata": {
  "kernelspec": {
   "display_name": "Python 3 (ipykernel)",
   "language": "python",
   "name": "python3"
  },
  "language_info": {
   "codemirror_mode": {
    "name": "ipython",
    "version": 3
   },
   "file_extension": ".py",
   "mimetype": "text/x-python",
   "name": "python",
   "nbconvert_exporter": "python",
   "pygments_lexer": "ipython3",
   "version": "3.9.23"
  }
 },
 "nbformat": 4,
 "nbformat_minor": 5
}
