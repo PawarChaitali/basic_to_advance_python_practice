{
 "cells": [
  {
   "cell_type": "markdown",
   "id": "d809b4c6-da8a-48a6-8555-450488864866",
   "metadata": {},
   "source": [
    "### Python Data Types"
   ]
  },
  {
   "cell_type": "code",
   "execution_count": 2,
   "id": "36594238-c086-4004-a1e4-6028da6dc236",
   "metadata": {},
   "outputs": [
    {
     "name": "stdout",
     "output_type": "stream",
     "text": [
      "<class 'int'>\n",
      "<class 'str'>\n",
      "<class 'bool'>\n",
      "<class 'float'>\n"
     ]
    }
   ],
   "source": [
    "a=5\n",
    "print(type(a))\n",
    "\n",
    "b=\"Apple\"\n",
    "print(type(b))\n",
    "\n",
    "c=True\n",
    "print(type(c))\n",
    "\n",
    "d=1.3\n",
    "print(type(d))"
   ]
  },
  {
   "cell_type": "markdown",
   "id": "8712ec06-34c5-4227-93a3-144438033831",
   "metadata": {},
   "source": [
    "### Python Casting"
   ]
  },
  {
   "cell_type": "code",
   "execution_count": 3,
   "id": "b7a46a3c-4ecd-4a90-a262-689d4c79c3f2",
   "metadata": {},
   "outputs": [],
   "source": [
    "# integers\n",
    "x = int(1)   # x will be 1\n",
    "y = int(2.8) # y will be 2\n",
    "z = int(\"3\") # z will be 3\n",
    "\n",
    "x = float(1)     # x will be 1.0\n",
    "y = float(2.8)   # y will be 2.8\n",
    "z = float(\"3\")   # z will be 3.0\n",
    "w = float(\"4.2\") # w will be 4.2\n",
    "\n",
    "x = str(\"a1\") # x will be 'a1'\n",
    "y = str(2)    # y will be '2'\n",
    "z = str(3.0)  # z will be '3.0'"
   ]
  },
  {
   "cell_type": "markdown",
   "id": "8716cbbb-2156-4db9-b73d-e7e4838f5335",
   "metadata": {},
   "source": [
    "### Strings"
   ]
  },
  {
   "cell_type": "code",
   "execution_count": 4,
   "id": "a7d52afd-3c35-4b58-a10d-f62c3a3f3f68",
   "metadata": {},
   "outputs": [
    {
     "name": "stdout",
     "output_type": "stream",
     "text": [
      "Hello World\n"
     ]
    }
   ],
   "source": [
    "a=\"Hello World\"\n",
    "print(a)"
   ]
  },
  {
   "cell_type": "markdown",
   "id": "adf61fdb-c388-4b8f-aa7d-2132cda6c228",
   "metadata": {},
   "source": [
    "##### Looping Through a String"
   ]
  },
  {
   "cell_type": "code",
   "execution_count": 5,
   "id": "541baecf-b5de-48bc-b6bf-05a362ac0b66",
   "metadata": {},
   "outputs": [
    {
     "name": "stdout",
     "output_type": "stream",
     "text": [
      "S\n",
      "a\n",
      "t\n",
      "u\n",
      "d\n",
      "a\n",
      "y\n"
     ]
    }
   ],
   "source": [
    "str1=\"Satuday\"\n",
    "for i in str1:\n",
    "    print(i)"
   ]
  },
  {
   "cell_type": "markdown",
   "id": "bab7918f-e659-4fd3-b0c1-acd769fe6381",
   "metadata": {},
   "source": [
    "##### Check String Length"
   ]
  },
  {
   "cell_type": "code",
   "execution_count": 6,
   "id": "0f2b58a8-6812-4216-82dd-8c9eb86413f6",
   "metadata": {},
   "outputs": [
    {
     "name": "stdout",
     "output_type": "stream",
     "text": [
      "6\n"
     ]
    }
   ],
   "source": [
    "str1=\"Sunday\"\n",
    "print(len(str1))         # Use len() function"
   ]
  },
  {
   "cell_type": "markdown",
   "id": "92424fdb-e8cc-4007-9792-f2876674abb0",
   "metadata": {},
   "source": [
    "##### Check if a certain phrase or character is present in a string"
   ]
  },
  {
   "cell_type": "code",
   "execution_count": 7,
   "id": "d6b1dd21-f80e-4ecc-9e5b-b452003bb970",
   "metadata": {},
   "outputs": [
    {
     "name": "stdout",
     "output_type": "stream",
     "text": [
      "True\n",
      "u is present\n"
     ]
    }
   ],
   "source": [
    "str1=\"Sunday\"\n",
    "print(\"u\" in str1)     # Use 'in' keyword\n",
    "\n",
    "# Use if statement\n",
    "if \"u\" in str1:        # Use 'in' keyword\n",
    "    print(\"u is present\")"
   ]
  },
  {
   "cell_type": "markdown",
   "id": "b3372f6c-bb30-41fe-9076-8fed8802ab8a",
   "metadata": {},
   "source": [
    "##### check if a certain phrase or character is NOT present in a string"
   ]
  },
  {
   "cell_type": "code",
   "execution_count": 8,
   "id": "fcace762-9916-4b10-8d86-e1fc3d385f80",
   "metadata": {},
   "outputs": [
    {
     "name": "stdout",
     "output_type": "stream",
     "text": [
      "False\n",
      "char is present\n"
     ]
    }
   ],
   "source": [
    "\n",
    "str1=\"Sunday\"\n",
    "print(\"u\" not in str1)     # Use 'not in' keyword\n",
    "\n",
    "# Use if statement\n",
    "if \"u\" not in str1:\n",
    "    print(\"u\" not in present)\n",
    "else:\n",
    "    print(\"char is present\")  # Use 'not in' keyword"
   ]
  },
  {
   "cell_type": "markdown",
   "id": "228988c5-007d-4cd4-856e-e9b62fc72157",
   "metadata": {},
   "source": [
    "##### String Slicing"
   ]
  },
  {
   "cell_type": "code",
   "execution_count": 19,
   "id": "cad81486-8d48-4e2c-b6e4-0317c8bba28f",
   "metadata": {},
   "outputs": [
    {
     "name": "stdout",
     "output_type": "stream",
     "text": [
      "Good\n",
      "Good Morning!\n",
      "Good Morn\n",
      "Morning\n"
     ]
    }
   ],
   "source": [
    "str1=\"Good Morning!\"\n",
    "print(str1[0:4])       # Slicing to return a part of the string\n",
    "\n",
    "print(str1[0:])        # Get the characters from position 0, and all the way to the end\n",
    "\n",
    "print(str1[:9])        # Get the characters from the start to position 9 (not included)\n",
    "\n",
    "print(str1[-8:-1])     # Get the characters:From: \"M\" in \"Good Morning!\" (position -8)To, but not included: \"!\" in \"Morning!\" (position -1)"
   ]
  },
  {
   "cell_type": "markdown",
   "id": "99916a59-9050-4c92-8b0a-f7708681cff7",
   "metadata": {},
   "source": [
    "##### Modify Strings"
   ]
  },
  {
   "cell_type": "code",
   "execution_count": 10,
   "id": "83af7a1c-706e-405a-88f5-1a8c4d02d447",
   "metadata": {},
   "outputs": [
    {
     "name": "stdout",
     "output_type": "stream",
     "text": [
      "Upper Case: GOOD MORNING\n",
      "Lower_Case: good morning\n",
      "Whitespaces removed: Hello everyone!!\n",
      " Good Morning\n",
      "['Today', ' is', ' Thursday']\n",
      "Happy Weekeend\n",
      "My name is John & my age is 26\n",
      "The price is 288 Rs\n",
      "My name is \"Chaitali\" Pawar\n",
      "Good \n",
      "Morning\n"
     ]
    }
   ],
   "source": [
    "# Upper Case\n",
    "str1=\"good morning\"\n",
    "print(\"Upper Case:\",str1.upper())\n",
    "\n",
    "# Lower Case\n",
    "str2=\"GOOD MORNING\"\n",
    "print(\"Lower_Case:\",str1.lower())\n",
    "\n",
    "# Remove Whitespaces\n",
    "str3=\"  Hello everyone!!   \"\n",
    "print(\"Whitespaces removed:\",str3.strip())\n",
    "\n",
    "# Replace String\n",
    "str4=\"Gud Morning\"\n",
    "print(\"\",str4.replace(\"Gud\",\"Good\"))\n",
    "\n",
    "# Split String\n",
    "str5=\"Today, is, Thursday\"\n",
    "print(str5.split(\",\"))\n",
    "\n",
    "# String Concatenation\n",
    "str6=\"Happy\"\n",
    "str7=\"Weekeend\"\n",
    "concatenated_string=str6+\" \"+str7\n",
    "print(concatenated_string)\n",
    "\n",
    "# String Format( combine strings and numbers using curly brackets {})\n",
    "Age=26\n",
    "text=f\"My name is John & my age is {Age}\"\n",
    "print(text)\n",
    "\n",
    "# Perform a math operation in the placeholder\n",
    "text1=f\"The price is {12*24} Rs\"\n",
    "print(text1)\n",
    "\n",
    "# Escape characters\n",
    "# 1.\"\\\" allows you to use double quotes when you normally would not be allowed\n",
    "txt=\"My name is \\\"Chaitali\\\" Pawar\"\n",
    "print(txt)\n",
    "# 2.\\n--> new line\n",
    "txt1=\"Good \\nMorning\"\n",
    "print(txt1)"
   ]
  },
  {
   "cell_type": "markdown",
   "id": "f4a40f8e-b26b-45c6-b7c4-c2b37e85832c",
   "metadata": {},
   "source": [
    "##### String Methods"
   ]
  },
  {
   "cell_type": "code",
   "execution_count": 40,
   "id": "bb49a932-0321-44e8-af4a-040034bcfe95",
   "metadata": {},
   "outputs": [
    {
     "name": "stdout",
     "output_type": "stream",
     "text": [
      "Capitalize: Python from basic to advance 11\n",
      "Casefold: python from basic to advance 11\n",
      "Center: python From Basic to advance 11\n",
      "count: 3\n",
      "endswith: False\n",
      "find: 18\n",
      "index: 29\n",
      "isalnum: False\n",
      "isalpha: False\n",
      "p-y-t-h-o-n- -F-r-o-m- -B-a-s-i-c- -t-o- -a-d-v-a-n-c-e- -1-1\n"
     ]
    }
   ],
   "source": [
    "str1=\"python From Basic to advance 11\"\n",
    "\n",
    "# 1.capitalize()-->Converts the first character to upper case\n",
    "a=str1.capitalize()\n",
    "print(\"Capitalize:\",a)\n",
    "\n",
    "# 2.casefold()-->Converts string into lower case\n",
    "b=str1.casefold()\n",
    "print(\"Casefold:\",b)\n",
    "\n",
    "# 3.center()-->Returns a centered string\n",
    "c=str1.center(21,\"B\")\n",
    "print(\"Center:\",c)\n",
    "\n",
    "# 4.count()-->Returns the number of times a specified value occ\n",
    "d=str1.count(\"a\")\n",
    "print(\"count:\",d)\n",
    "\n",
    "# 5.endswith-->Returns true if the string ends with the specified value\n",
    "e=str1.endswith(\"o\")\n",
    "print(\"endswith:\", e)\n",
    "\n",
    "# 6. find()-->Searches the string for a specified value and returns the position of where it was found(if value is not present it give -1 output)\n",
    "f=str1.find(\"to\")\n",
    "print(\"find:\",f)\n",
    "\n",
    "# 7.index()-->Searches the string for a specified value and returns the position of where it was found\n",
    "g=str1.index(\"11\")\n",
    "print(\"index:\",g)\n",
    "\n",
    "# 8:isalnum()-->Returns True if all characters in the string are alphanumeric\n",
    "h=str1.isalnum()\n",
    "print(\"isalnum:\",h)\n",
    "\n",
    "# 9.isalpha()-->Returns True if all characters in the string are in the alphabet\n",
    "i=str1.isalpha()\n",
    "print(\"isalpha:\",i)\n",
    "\n",
    "# 10.join()-->Joins the elements of an iterable to the end of the string\n",
    "j=\"-\".join(str1)\n",
    "print(j)\n"
   ]
  }
 ],
 "metadata": {
  "kernelspec": {
   "display_name": "Python 3 (ipykernel)",
   "language": "python",
   "name": "python3"
  },
  "language_info": {
   "codemirror_mode": {
    "name": "ipython",
    "version": 3
   },
   "file_extension": ".py",
   "mimetype": "text/x-python",
   "name": "python",
   "nbconvert_exporter": "python",
   "pygments_lexer": "ipython3",
   "version": "3.9.23"
  }
 },
 "nbformat": 4,
 "nbformat_minor": 5
}
